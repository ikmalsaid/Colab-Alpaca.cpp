{
  "nbformat": 4,
  "nbformat_minor": 0,
  "metadata": {
    "colab": {
      "private_outputs": true,
      "provenance": [],
      "authorship_tag": "ABX9TyPYiW0n9pCDwf/oYNK7++v2",
      "include_colab_link": true
    },
    "kernelspec": {
      "name": "python3",
      "display_name": "Python 3"
    },
    "language_info": {
      "name": "python"
    },
    "accelerator": "GPU",
    "gpuClass": "standard"
  },
  "cells": [
    {
      "cell_type": "markdown",
      "metadata": {
        "id": "view-in-github",
        "colab_type": "text"
      },
      "source": [
        "<a href=\"https://colab.research.google.com/github/ikmalsaid/Colab-Alpaca.cpp/blob/main/antimatter15_alpaca_cpp.ipynb\" target=\"_parent\"><img src=\"https://colab.research.google.com/assets/colab-badge.svg\" alt=\"Open In Colab\"/></a>"
      ]
    },
    {
      "cell_type": "code",
      "execution_count": null,
      "metadata": {
        "id": "cbiAubGvdGNe"
      },
      "outputs": [],
      "source": [
        "!git clone https://github.com/antimatter15/alpaca.cpp\n",
        "!cd alpaca.cpp\n",
        "!make chat"
      ]
    },
    {
      "cell_type": "code",
      "source": [
        "!curl -o ggml-alpaca-7b-q4.bin -C - https://cloudflare-ipfs.com/ipfs/QmQ1bf2BTnYxq73MFJWu1B7bQ2UD6qG7D7YDCxhTndVkPC"
      ],
      "metadata": {
        "id": "OdyhJ5SwebbD"
      },
      "execution_count": null,
      "outputs": []
    },
    {
      "cell_type": "code",
      "source": [
        "!./chat"
      ],
      "metadata": {
        "id": "hYNqIzeEfje9"
      },
      "execution_count": null,
      "outputs": []
    },
    {
      "cell_type": "code",
      "source": [],
      "metadata": {
        "id": "7l8UplpXix6H"
      },
      "execution_count": null,
      "outputs": []
    }
  ]
}